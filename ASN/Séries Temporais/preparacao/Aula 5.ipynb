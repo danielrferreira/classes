{
 "cells": [
  {
   "cell_type": "markdown",
   "metadata": {},
   "source": [
    "# ARIMA 2\n",
    "- Revisão\n",
    "- I do ARIMA\n",
    "- ARI\n",
    "- MA\n",
    "- IMA\n",
    "- ARIMA"
   ]
  },
  {
   "cell_type": "markdown",
   "metadata": {},
   "source": []
  }
 ],
 "metadata": {
  "language_info": {
   "name": "python"
  }
 },
 "nbformat": 4,
 "nbformat_minor": 2
}
